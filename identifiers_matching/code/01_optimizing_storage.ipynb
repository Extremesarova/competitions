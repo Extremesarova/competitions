{
 "cells": [
  {
   "cell_type": "code",
   "execution_count": 16,
   "id": "9e29f8d6-3114-4662-af83-0e4994c47655",
   "metadata": {},
   "outputs": [],
   "source": [
    "# !pip install pyarrow"
   ]
  },
  {
   "cell_type": "markdown",
   "id": "2b07d13d-d648-4f6f-9a4c-35ec3437d12a",
   "metadata": {},
   "source": [
    "## Imports"
   ]
  },
  {
   "cell_type": "code",
   "execution_count": 1,
   "id": "72bdc3cf-7e43-4ad4-a008-1dd0645f4dd3",
   "metadata": {},
   "outputs": [],
   "source": [
    "import os\n",
    "\n",
    "import pandas as pd"
   ]
  },
  {
   "cell_type": "markdown",
   "id": "b0192df2-dec3-4aff-afef-2cb285227388",
   "metadata": {},
   "source": [
    "## Paths"
   ]
  },
  {
   "cell_type": "code",
   "execution_count": 2,
   "id": "204e7ca8-292e-4adf-ad88-64a734257053",
   "metadata": {},
   "outputs": [],
   "source": [
    "RELATIVE_PATH = \"../data/\""
   ]
  },
  {
   "cell_type": "code",
   "execution_count": 3,
   "id": "8134e5c8-f694-48f7-9d09-cac473da3bac",
   "metadata": {},
   "outputs": [],
   "source": [
    "OLD_DATA_PATH_CSV = os.path.join(RELATIVE_PATH, \"01_data.csv\")\n",
    "NEW_DATA_PATH_PARQUET = os.path.join(RELATIVE_PATH, \"01_data.parquet\")"
   ]
  },
  {
   "cell_type": "code",
   "execution_count": 4,
   "id": "15d42360-af81-49df-965f-5ea13a9e04d2",
   "metadata": {},
   "outputs": [],
   "source": [
    "OLD_ETALON_PATH_CSV = os.path.join(RELATIVE_PATH, \"02_etalon.csv\")\n",
    "NEW_ETALON_PATH_PARQUET = os.path.join(RELATIVE_PATH, \"02_etalon.parquet\")"
   ]
  },
  {
   "cell_type": "markdown",
   "id": "d73b0c5b-936f-4772-995d-102123a7359a",
   "metadata": {},
   "source": [
    "## Optimizing"
   ]
  },
  {
   "cell_type": "markdown",
   "id": "87b4bed3-b7bd-405d-a0ad-e74d61069b59",
   "metadata": {},
   "source": [
    "### Data"
   ]
  },
  {
   "cell_type": "code",
   "execution_count": 5,
   "id": "f3973b30-3f96-4120-8992-6297de945541",
   "metadata": {},
   "outputs": [],
   "source": [
    "data = pd.read_csv(OLD_DATA_PATH_CSV, sep=\";\")"
   ]
  },
  {
   "cell_type": "code",
   "execution_count": 6,
   "id": "b8ff93a3-9ce6-47d5-afdf-8c464dfac968",
   "metadata": {},
   "outputs": [],
   "source": [
    "data.to_parquet(NEW_DATA_PATH_PARQUET)"
   ]
  },
  {
   "cell_type": "markdown",
   "id": "4dc2fc60-770e-435a-9cb3-cd73af37bb2f",
   "metadata": {},
   "source": [
    "By doing this we've reduced memory usage for storing the dataset from `~387 MB` to `~78 MB`."
   ]
  },
  {
   "cell_type": "code",
   "execution_count": 7,
   "id": "5e4f9fd7-66a3-491b-ae44-9cde2d69e632",
   "metadata": {},
   "outputs": [
    {
     "name": "stdout",
     "output_type": "stream",
     "text": [
      "2.88 s ± 82.4 ms per loop (mean ± std. dev. of 7 runs, 1 loop each)\n"
     ]
    }
   ],
   "source": [
    "%%timeit\n",
    "data = pd.read_csv(OLD_DATA_PATH_CSV, sep=\";\")"
   ]
  },
  {
   "cell_type": "code",
   "execution_count": 8,
   "id": "99318d16-af26-45a0-8776-e4d87b8d2730",
   "metadata": {},
   "outputs": [
    {
     "name": "stdout",
     "output_type": "stream",
     "text": [
      "596 ms ± 29.1 ms per loop (mean ± std. dev. of 7 runs, 1 loop each)\n"
     ]
    }
   ],
   "source": [
    "%%timeit\n",
    "data = pd.read_parquet(NEW_DATA_PATH_PARQUET)"
   ]
  },
  {
   "cell_type": "markdown",
   "id": "68e8fa34-6966-4f7a-ac39-089eba7dfb6c",
   "metadata": {},
   "source": [
    "Also, we've reduced loading time from `~3s` to `~0.6s`"
   ]
  },
  {
   "cell_type": "markdown",
   "id": "90ca21ec-f452-4835-b2ee-56f9e1469629",
   "metadata": {},
   "source": [
    "### Etalon"
   ]
  },
  {
   "cell_type": "code",
   "execution_count": 9,
   "id": "e1a8a357-92ce-4304-8bab-0bfee9bdb7a1",
   "metadata": {},
   "outputs": [],
   "source": [
    "etalon = pd.read_csv(OLD_ETALON_PATH_CSV, sep=\";\")"
   ]
  },
  {
   "cell_type": "code",
   "execution_count": 10,
   "id": "f771c4ba-6013-48db-b5a5-fcbe3d622822",
   "metadata": {},
   "outputs": [],
   "source": [
    "etalon.to_parquet(NEW_ETALON_PATH_PARQUET)"
   ]
  },
  {
   "cell_type": "markdown",
   "id": "2e8b23f5-e8fd-479f-bc7a-c671616c21b3",
   "metadata": {},
   "source": [
    "For this file we actually increased memory usage from 8 KB to 9 KB, but it is not that substantial"
   ]
  }
 ],
 "metadata": {
  "kernelspec": {
   "display_name": "mini-projects",
   "language": "python",
   "name": "mini-projects"
  },
  "language_info": {
   "codemirror_mode": {
    "name": "ipython",
    "version": 3
   },
   "file_extension": ".py",
   "mimetype": "text/x-python",
   "name": "python",
   "nbconvert_exporter": "python",
   "pygments_lexer": "ipython3",
   "version": "3.8.10"
  }
 },
 "nbformat": 4,
 "nbformat_minor": 5
}
